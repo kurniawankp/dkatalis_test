{
 "cells": [
  {
   "cell_type": "code",
   "execution_count": 13,
   "id": "d210ef0f-2e81-4806-8060-e2e2480e9b63",
   "metadata": {},
   "outputs": [],
   "source": [
    "import pandas as pd\n",
    "import numpy as np\n",
    "import os\n",
    "import sys\n",
    "import json\n",
    "import string\n",
    "\n",
    "from sqlalchemy import create_engine\n",
    "import psycopg2"
   ]
  },
  {
   "cell_type": "code",
   "execution_count": 2,
   "id": "6991df87-c7b5-4ead-8a9a-5559a3578b14",
   "metadata": {},
   "outputs": [],
   "source": [
    "master_folder = '/Users/kurniawankesumaputra/Desktop/work/dkatalis/technical_test/'"
   ]
  },
  {
   "cell_type": "code",
   "execution_count": 3,
   "id": "57cfee70-6ef5-4390-bba4-76ae4cefd7f8",
   "metadata": {},
   "outputs": [],
   "source": [
    "filename_list = [\n",
    "    'CRM Events.csv',\n",
    "    'CRM Call Center Logs.csv',\n",
    "]"
   ]
  },
  {
   "cell_type": "code",
   "execution_count": 43,
   "id": "f668c92f-24c1-472e-b7cf-a46608ecf2d7",
   "metadata": {},
   "outputs": [],
   "source": [
    "with open(os.path.join(master_folder,'database.json'),'r') as f:\n",
    "    db_credential = json.load(f)"
   ]
  },
  {
   "cell_type": "code",
   "execution_count": 52,
   "id": "9fafe2ab-1c9a-4cba-89ed-dacd6a3f98b3",
   "metadata": {},
   "outputs": [],
   "source": [
    "date_columns = {\n",
    "    'CRM Events.csv':[\n",
    "        'date_received'\n",
    "    ],\n",
    "    'CRM Call Center Logs.csv':[\n",
    "        'date_received',\n",
    "        \"serstart\",\n",
    "        \"serexit\",\n",
    "        \"sertime\"\n",
    "    ]\n",
    "}"
   ]
  },
  {
   "cell_type": "code",
   "execution_count": 79,
   "id": "4f8fe8c0-669c-4ce9-9192-1a4c7f9317e9",
   "metadata": {},
   "outputs": [],
   "source": [
    "date_columns = [\n",
    "    \"date_received\",\n",
    "    \"date_sent_to_company\"\n",
    "]\n",
    "time_columns = [\n",
    "    \"serstart\",\n",
    "    \"serexit\",\n",
    "    \"sertime\"\n",
    "]"
   ]
  },
  {
   "cell_type": "code",
   "execution_count": 80,
   "id": "b6184192-bd0d-4f96-86d5-6e428c808172",
   "metadata": {},
   "outputs": [
    {
     "name": "stdout",
     "output_type": "stream",
     "text": [
      "--------------------------------------------------\n",
      "--------------------------------------------------\n"
     ]
    }
   ],
   "source": [
    "conn_string = f\"postgresql://{db_credential['POSTGRES_USER']}:{db_credential['POSTGRES_PASSWORD']}@{db_credential['POSTGRESS_HOST']}/{db_credential['POSTGRES_DB']}\"\n",
    "db = create_engine(conn_string)\n",
    "conn = db.connect()\n",
    "for file in filename_list:\n",
    "    file_path = os.path.join(master_folder,*['data',file])\n",
    "    df = pd.read_csv(file_path)\n",
    "    df.columns = df.columns.str.translate(str.maketrans('', '', string.punctuation)).str.replace(' ','_').str.lower().str.strip()\n",
    "    table_name = file.split('.csv')[0].lower().strip().translate(str.maketrans('', '', string.punctuation)).replace(' ','_')\n",
    "    for col in df.columns:\n",
    "        if col in date_columns:\n",
    "            df[col] = pd.to_datetime(df[col],errors='coerce')\n",
    "        elif col in time_columns:\n",
    "            df[col] = pd.to_datetime(df[col],format=\"%H:%M:%S\",errors='coerce').dt.time\n",
    "    df.to_sql(table_name, con=conn,schema=db_credential['POSTGRES_SCHEMA'], if_exists='replace', index=False)\n",
    "    print(\"-\"*50)\n",
    "conn.close()"
   ]
  },
  {
   "cell_type": "code",
   "execution_count": 81,
   "id": "475e45f5-fdd3-4470-94a1-23feb2c76813",
   "metadata": {},
   "outputs": [
    {
     "data": {
      "text/plain": [
       "date_received    datetime64[ns]\n",
       "complaint_id             object\n",
       "rand_client              object\n",
       "phonefinal               object\n",
       "vruline                  object\n",
       "callid                  float64\n",
       "priority                float64\n",
       "type                     object\n",
       "outcome                  object\n",
       "server                   object\n",
       "serstart                 object\n",
       "serexit                  object\n",
       "sertime                  object\n",
       "dtype: object"
      ]
     },
     "execution_count": 81,
     "metadata": {},
     "output_type": "execute_result"
    }
   ],
   "source": [
    "df.dtypes"
   ]
  },
  {
   "cell_type": "code",
   "execution_count": null,
   "id": "5c1dec2e-d00e-4e54-8b70-b6c532c8b1da",
   "metadata": {},
   "outputs": [],
   "source": [
    "for file in filename_list:\n",
    "    file_path = os.path.join(master_folder,*['data',file])\n",
    "    df = pd.read_csv(file_path)\n",
    "    df.columns = df.columns.str.translate(str.maketrans('', '', string.punctuation)).str.replace(' ','_').str.lower().str.strip()\n",
    "    table_name = file.split('.csv')[0].lower().strip().translate(str.maketrans('', '', string.punctuation)).replace(' ','_')\n",
    "    fields = []\n",
    "    avro_data = {\n",
    "        \"namespace\": f\"{table_name}.avro\",\n",
    "        \"type\": \"record\",\n",
    "        \"name\": table_name,\n",
    "    }\n",
    "    for col in df.columns:\n",
    "        if col in date_columns:\n",
    "            type_ = \"int\"\n",
    "            df[col] = pd.to_datetime(df[col],errors='coerce')\n",
    "        else:\n",
    "            type_ = \"string\"\n",
    "        \n",
    "        dat_ = {\n",
    "            \"name\": col,\n",
    "            \"type\": [\n",
    "                type_,\"null\"\n",
    "            ]\n",
    "        }\n",
    "        fields.append(dat_)\n",
    "    avro_data[\"field\"] = fields\n",
    "    with open(os.path.join(master_folder,*[\"avro_schema\",f\"{table_name}.json\"]),'w') as f:\n",
    "        json.dump(avro_data,f,indent=4)\n",
    "        f.close()"
   ]
  },
  {
   "cell_type": "code",
   "execution_count": null,
   "id": "19184f08-7d62-41ae-b855-e56bc0e1fb46",
   "metadata": {},
   "outputs": [],
   "source": [
    "crm_event = pd.read_csv"
   ]
  }
 ],
 "metadata": {
  "kernelspec": {
   "display_name": "Python 3",
   "language": "python",
   "name": "python3"
  },
  "language_info": {
   "codemirror_mode": {
    "name": "ipython",
    "version": 3
   },
   "file_extension": ".py",
   "mimetype": "text/x-python",
   "name": "python",
   "nbconvert_exporter": "python",
   "pygments_lexer": "ipython3",
   "version": "3.8.8"
  }
 },
 "nbformat": 4,
 "nbformat_minor": 5
}
